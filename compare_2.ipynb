{
 "cells": [
  {
   "cell_type": "code",
   "execution_count": 1,
   "metadata": {},
   "outputs": [],
   "source": [
    "from qiskit.circuit import Parameter, QuantumCircuit\n",
    "from qiskit_ibm_runtime import QiskitRuntimeService, Sampler\n",
    "service = QiskitRuntimeService()\n"
   ]
  },
  {
   "cell_type": "code",
   "execution_count": 2,
   "metadata": {},
   "outputs": [],
   "source": [
    "from qiskit import QuantumCircuit, QuantumRegister, ClassicalRegister\n",
    "from qiskit.visualization import plot_histogram\n",
    "\n",
    "def bit_compare():\n",
    "    qr = QuantumRegister(2, \"bits\")\n",
    "    aux = QuantumRegister(2, \"aux\")\n",
    "    \n",
    "    qc = QuantumCircuit(qr, aux)\n",
    "    qc.x(qr[1])\n",
    "    qc.mcx(qr, aux[0])\n",
    "    qc.x(qr[0])\n",
    "    qc.x(qr[1])\n",
    "    qc.mcx(qr, aux[1])\n",
    "    qc.x(qr[0])\n",
    "    \n",
    "    return qc"
   ]
  },
  {
   "cell_type": "code",
   "execution_count": 3,
   "metadata": {},
   "outputs": [
    {
     "name": "stdout",
     "output_type": "stream",
     "text": [
      "                  ┌───┐     ┌───┐\n",
      "bits_0: ───────■──┤ X ├──■──┤ X ├\n",
      "        ┌───┐  │  ├───┤  │  └───┘\n",
      "bits_1: ┤ X ├──■──┤ X ├──■───────\n",
      "        └───┘┌─┴─┐└───┘  │       \n",
      " aux_0: ─────┤ X ├───────┼───────\n",
      "             └───┘     ┌─┴─┐     \n",
      " aux_1: ───────────────┤ X ├─────\n",
      "                       └───┘     \n"
     ]
    }
   ],
   "source": [
    "print(bit_compare())"
   ]
  },
  {
   "cell_type": "code",
   "execution_count": 4,
   "metadata": {},
   "outputs": [],
   "source": [
    "def encode(bit):\n",
    "    qr = QuantumRegister(1, \"number\")\n",
    "    qc = QuantumCircuit(qr)\n",
    "    if (bit == \"1\"):\n",
    "        qc.x(qr[0])\n",
    "    return qc"
   ]
  },
  {
   "cell_type": "code",
   "execution_count": 5,
   "metadata": {},
   "outputs": [],
   "source": [
    "def compare_bitstring(bitstring_a, bitstring_b):\n",
    "    bits = len(bitstring_a)\n",
    "    qra = QuantumRegister(bits, \"a\")\n",
    "    qrb = QuantumRegister(bits, \"b\")\n",
    "    qraux = QuantumRegister(2*bits, \"aux\")\n",
    "    qrint = QuantumRegister(bits-1, \"int\")\n",
    "    cr = ClassicalRegister(4)\n",
    "\n",
    "    qc = QuantumCircuit(qra, qrb, qraux, qrint, cr)\n",
    "\n",
    "    for i in range(bits):\n",
    "        qc.append(encode(bitstring_a[i]), [qra[i]])\n",
    "        qc.append(encode(bitstring_b[i]), [qrb[i]])\n",
    "        qc.append(bit_compare(), [qra[i], qrb[i], qraux[2*i], qraux[2*i+1]])\n",
    "                \n",
    "        if i < bits-1:\n",
    "            qc.x(qraux[2*i])\n",
    "            qc.x(qraux[2*i+1])\n",
    "            qc.mcx([qraux[2*i], qraux[2*i+1]], qrint[i])\n",
    "            qc.x(qraux[2*i])\n",
    "            qc.x(qraux[2*i+1])\n",
    "        \n",
    "    for i in range(0, bits-1):\n",
    "        qc.mcx([qraux[2*(-i-1)],  qrint[-i]], qraux[2*(-i)])\n",
    "        qc.mcx([qraux[2*(-i-1)+1],  qrint[-i]], qraux[2*(-i)+1])\n",
    "        \n",
    "    qc.measure(qraux[0], cr[0])\n",
    "    qc.measure(qraux[1], cr[1])\n",
    "       \n",
    "       \n",
    "    return qc"
   ]
  },
  {
   "cell_type": "code",
   "execution_count": 6,
   "metadata": {},
   "outputs": [],
   "source": [
    "#circuit = compare_bitstring(\"11\", \"10\")"
   ]
  },
  {
   "cell_type": "code",
   "execution_count": 7,
   "metadata": {},
   "outputs": [],
   "source": [
    "circuit = compare_bitstring(\"110\", \"111\")"
   ]
  },
  {
   "cell_type": "code",
   "execution_count": 8,
   "metadata": {},
   "outputs": [
    {
     "name": "stdout",
     "output_type": "stream",
     "text": [
      "       ┌─────────────┐┌──────────────┐                                     »\n",
      "  a_0: ┤ circuit-160 ├┤0             ├─────────────────────────────────────»\n",
      "       ├─────────────┤│              │┌──────────────┐                     »\n",
      "  a_1: ┤ circuit-169 ├┤              ├┤0             ├─────────────────────»\n",
      "       ├─────────────┤│              ││              │┌──────────────┐     »\n",
      "  a_2: ┤ circuit-178 ├┤              ├┤              ├┤0             ├─────»\n",
      "       ├─────────────┤│              ││              ││              │     »\n",
      "  b_0: ┤ circuit-163 ├┤1             ├┤              ├┤              ├─────»\n",
      "       ├─────────────┤│  circuit-166 ││              ││              │     »\n",
      "  b_1: ┤ circuit-172 ├┤              ├┤1             ├┤              ├─────»\n",
      "       ├─────────────┤│              ││              ││              │     »\n",
      "  b_2: ┤ circuit-181 ├┤              ├┤  circuit-175 ├┤1             ├─────»\n",
      "       └─────────────┘│              ││              ││              │┌───┐»\n",
      "aux_0: ───────────────┤2             ├┤              ├┤              ├┤ X ├»\n",
      "                      │              ││              ││  circuit-184 │├───┤»\n",
      "aux_1: ───────────────┤3             ├┤              ├┤              ├┤ X ├»\n",
      "                      └──────────────┘│              ││              │├───┤»\n",
      "aux_2: ───────────────────────────────┤2             ├┤              ├┤ X ├»\n",
      "                                      │              ││              │├───┤»\n",
      "aux_3: ───────────────────────────────┤3             ├┤              ├┤ X ├»\n",
      "                                      └──────────────┘│              │└───┘»\n",
      "aux_4: ───────────────────────────────────────────────┤2             ├─────»\n",
      "                                                      │              │     »\n",
      "aux_5: ───────────────────────────────────────────────┤3             ├─────»\n",
      "                                                      └──────────────┘     »\n",
      "int_0: ────────────────────────────────────────────────────────────────────»\n",
      "                                                                           »\n",
      "int_1: ────────────────────────────────────────────────────────────────────»\n",
      "                                                                           »\n",
      " c0: 4/════════════════════════════════════════════════════════════════════»\n",
      "                                                                           »\n",
      "«                                                \n",
      "«  a_0: ─────────────────────────────────────────\n",
      "«                                                \n",
      "«  a_1: ─────────────────────────────────────────\n",
      "«                                                \n",
      "«  a_2: ─────────────────────────────────────────\n",
      "«                                                \n",
      "«  b_0: ─────────────────────────────────────────\n",
      "«                                                \n",
      "«  b_1: ─────────────────────────────────────────\n",
      "«                                                \n",
      "«  b_2: ─────────────────────────────────────────\n",
      "«            ┌───┐     ┌───┐          ┌─┐        \n",
      "«aux_0: ──■──┤ X ├─────┤ X ├──────────┤M├────────\n",
      "«         │  ├───┤     └─┬─┘┌───┐     └╥┘     ┌─┐\n",
      "«aux_1: ──■──┤ X ├───────┼──┤ X ├──────╫──────┤M├\n",
      "«         │  └───┘┌───┐  │  └─┬─┘      ║      └╥┘\n",
      "«aux_2: ──┼────■──┤ X ├──┼────┼────■───╫───────╫─\n",
      "«         │    │  ├───┤  │    │    │   ║       ║ \n",
      "«aux_3: ──┼────■──┤ X ├──┼────┼────┼───╫───■───╫─\n",
      "«         │    │  └───┘  │    │  ┌─┴─┐ ║   │   ║ \n",
      "«aux_4: ──┼────┼─────────■────┼──┤ X ├─╫───┼───╫─\n",
      "«         │    │         │    │  └─┬─┘ ║ ┌─┴─┐ ║ \n",
      "«aux_5: ──┼────┼─────────┼────■────┼───╫─┤ X ├─╫─\n",
      "«       ┌─┴─┐  │         │    │    │   ║ └─┬─┘ ║ \n",
      "«int_0: ┤ X ├──┼─────────■────■────┼───╫───┼───╫─\n",
      "«       └───┘┌─┴─┐                 │   ║   │   ║ \n",
      "«int_1: ─────┤ X ├─────────────────■───╫───■───╫─\n",
      "«            └───┘                     ║       ║ \n",
      "« c0: 4/═══════════════════════════════╩═══════╩═\n",
      "«                                      0       1 \n"
     ]
    }
   ],
   "source": [
    "print(circuit)"
   ]
  },
  {
   "cell_type": "code",
   "execution_count": 9,
   "metadata": {},
   "outputs": [
    {
     "name": "stderr",
     "output_type": "stream",
     "text": [
      "/home/bram/.venvs/qiskit312/lib/python3.12/site-packages/qiskit_ibm_runtime/qiskit_runtime_service.py:927: UserWarning: Cloud simulators will be deprecated on 15 May 2024. Use the new local testing mode in qiskit-ibm-runtime version 0.22.0 or later to meet your debugging needs.\n",
      "  warnings.warn(warning_message)\n"
     ]
    },
    {
     "name": "stdout",
     "output_type": "stream",
     "text": [
      "job id: co7f7costs3phnu5cmng\n",
      "SamplerResult(quasi_dists=[{2: 1.0}], metadata=[{'shots': 4000, 'circuit_metadata': {}}])\n"
     ]
    }
   ],
   "source": [
    "from qiskit_ibm_runtime import QiskitRuntimeService, Sampler\n",
    "from qiskit import transpile\n",
    "from qiskit.transpiler.preset_passmanagers import generate_preset_pass_manager\n",
    "service = QiskitRuntimeService()\n",
    "#backend = service.backend(\"ibmq_qasm_simulator\")\n",
    "backend = service.get_backend(\"simulator_statevector\")\n",
    "pm = generate_preset_pass_manager(optimization_level=1, target=backend.target) \n",
    "isa_circuits = pm.run(circuit)\n",
    "job = Sampler(backend).run(isa_circuits)\n",
    "print(f\"job id: {job.job_id()}\")\n",
    "result = job.result()\n",
    "print(result)"
   ]
  }
 ],
 "metadata": {
  "kernelspec": {
   "display_name": "qiskit",
   "language": "python",
   "name": "python3"
  },
  "language_info": {
   "codemirror_mode": {
    "name": "ipython",
    "version": 3
   },
   "file_extension": ".py",
   "mimetype": "text/x-python",
   "name": "python",
   "nbconvert_exporter": "python",
   "pygments_lexer": "ipython3",
   "version": "3.12.2"
  }
 },
 "nbformat": 4,
 "nbformat_minor": 2
}
